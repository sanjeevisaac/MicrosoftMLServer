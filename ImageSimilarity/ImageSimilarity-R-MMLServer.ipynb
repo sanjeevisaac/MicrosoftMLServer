{
 "cells": [
  {
   "cell_type": "code",
   "execution_count": 4,
   "metadata": {},
   "outputs": [
    {
     "name": "stdout",
     "output_type": "stream",
     "text": [
      "Beginning processing data.\n",
      "Rows Read: 631, Read Time: 0, Transform Time: 0\n",
      "Beginning processing data.\n",
      "Elapsed time: 00:01:19.2656902\n",
      "Finished writing 631 rows.\n",
      "Writing completed.\n"
     ]
    }
   ],
   "source": [
    "## This code is based the code of Roald Bradley Severtson : \n",
    "## https://github.com/Microsoft/microsoft-r/tree/master/microsoft-ml/Samples/PreTrainedModels/ImageAnalytics/ImageFeaturizer\n",
    "\n",
    "library(MicrosoftML)\n",
    "\n",
    "## Change NA to the actual location of the script. Use the absolute path.\n",
    "workingDir <- \"C:/workshop/ImageSimilarity\"\n",
    "\n",
    "if (is.na(workingDir)){\n",
    "  stop(\"The working directory needs to be set to the location of the script.\")\n",
    "}\n",
    "\n",
    "# Check if the working directory exists\n",
    "if (dir.exists(workingDir)){\n",
    "  setwd(workingDir) \n",
    "} else {\n",
    "  stop(paste(workingDir, \"does not exist. Please make sure the working directory is correct.\"))\n",
    "}\n",
    "\n",
    "\n",
    "## Set the location of the images\n",
    "imageLocation <- \"kids_girls_shoes/\"\n",
    "\n",
    "images <- list.files(path=imageLocation, recursive = TRUE, pattern = \"\\\\.tif\",  full.names=TRUE)\n",
    "\n",
    "\n",
    "# Setup a dataframe with the path to the image\n",
    "# MUST set the stringAsFactors to FALSE\n",
    "imageDF <- data.frame(Image = images, stringsAsFactors = FALSE)\n",
    "\n",
    "\n",
    "# Get the feature vectors of the images\n",
    "# This requires a 4 step process:\n",
    "# 1. Load the image(s) via the loadImage() transform\n",
    "# 2. Resize the image(s) to the size required by the image model \n",
    "#    (224x224 for resnet models, 227x227 for the alexnet model)\n",
    "# 3. Extract the pixels from the resized image(s) using the extractPixel() transform\n",
    "# 4. Finally, featurize the image(s) via the featurizeImage() transform\n",
    "# https://docs.microsoft.com/en-us/machine-learning-server/r-reference/microsoftml/featurizeimage\n",
    "imageDF <- data.frame(Image = images, stringsAsFactors = FALSE)\n",
    "imageFeatureVectorDF <- rxFeaturize(\n",
    "  data = imageDF,\n",
    "  mlTransforms = list(\n",
    "    loadImage(vars = list(Features = \"Image\")),\n",
    "    resizeImage(vars = \"Features\", width = 227, height = 227), #224x224 if resnet50 is used\n",
    "    extractPixels(vars = \"Features\"),\n",
    "    featurizeImage(var = \"Features\", dnnModel = \"alexnet\")   \n",
    "  ))"
   ]
  },
  {
   "cell_type": "code",
   "execution_count": 5,
   "metadata": {},
   "outputs": [
    {
     "name": "stdout",
     "output_type": "stream",
     "text": [
      "Beginning processing data.\n",
      "Rows Read: 1, Read Time: 0, Transform Time: 0\n",
      "Beginning processing data.\n",
      "Elapsed time: 00:00:06.1155672\n",
      "Finished writing 1 rows.\n",
      "Writing completed.\n"
     ]
    }
   ],
   "source": [
    "# Now, given an image, the task is to find the best matching image \n",
    "# from the list of images we'd featurized above\n",
    "\n",
    "# First featurize the image that we want to find matches for\n",
    "# We start with creating a dataframe with the location of the image\n",
    "targetImageLocation <- \"kids_girls_shoes/\"\n",
    "imageToMatch <- data.frame(Image = c(file.path(imageLocation, \"DP0114201701063676M.tif\")), \n",
    "                           stringsAsFactors = FALSE)\n",
    "\n",
    "# Now let's featurize this image we want to match\n",
    "# We'll use the Alexnet model\n",
    "imageToMatchDF <- rxFeaturize(\n",
    "  data = imageToMatch,\n",
    "  mlTransforms = list(\n",
    "    loadImage(vars = list(Features = \"Image\")),\n",
    "    resizeImage(vars = \"Features\", width = 227, height = 227),\n",
    "    extractPixels(vars = \"Features\"),\n",
    "    featurizeImage(var = \"Features\", dnnModel = \"alexnet\")   \n",
    "  ))\n",
    "\n",
    "\n",
    "# Next we'll calculate the Euclidean distance between the image and all the other images\n",
    "# We ignore the 1st column which is the image path\n",
    "# Then, the best matched image will be determined\n",
    "distVals <- dist(rbind(imageFeatureVectorDF, imageToMatchDF)[,-1], \"euclidean\")\n",
    "n <- attr(distVals, \"Size\")\n",
    "\n",
    "matchedImages <- images[which(rank(head(as.matrix(distVals)[n,],-1), ties.method='min') <= 3)]"
   ]
  },
  {
   "cell_type": "code",
   "execution_count": 6,
   "metadata": {},
   "outputs": [
    {
     "data": {
      "text/html": [
       "<ol class=list-inline>\n",
       "\t<li>'kids_girls_shoes/1129179_fpx.tif'</li>\n",
       "\t<li>'kids_girls_shoes/8364570_fpx.tif'</li>\n",
       "\t<li>'kids_girls_shoes/8656349_fpx.tif'</li>\n",
       "</ol>\n"
      ],
      "text/latex": [
       "\\begin{enumerate*}\n",
       "\\item 'kids\\_girls\\_shoes/1129179\\_fpx.tif'\n",
       "\\item 'kids\\_girls\\_shoes/8364570\\_fpx.tif'\n",
       "\\item 'kids\\_girls\\_shoes/8656349\\_fpx.tif'\n",
       "\\end{enumerate*}\n"
      ],
      "text/markdown": [
       "1. 'kids_girls_shoes/1129179_fpx.tif'\n",
       "2. 'kids_girls_shoes/8364570_fpx.tif'\n",
       "3. 'kids_girls_shoes/8656349_fpx.tif'\n",
       "\n",
       "\n"
      ],
      "text/plain": [
       "[1] \"kids_girls_shoes/1129179_fpx.tif\" \"kids_girls_shoes/8364570_fpx.tif\"\n",
       "[3] \"kids_girls_shoes/8656349_fpx.tif\""
      ]
     },
     "metadata": {},
     "output_type": "display_data"
    }
   ],
   "source": [
    "matchedImages"
   ]
  },
  {
   "cell_type": "code",
   "execution_count": null,
   "metadata": {},
   "outputs": [],
   "source": []
  }
 ],
 "metadata": {
  "kernelspec": {
   "display_name": "R",
   "language": "R",
   "name": "ir"
  },
  "language_info": {
   "codemirror_mode": "r",
   "file_extension": ".r",
   "mimetype": "text/x-r-source",
   "name": "R",
   "pygments_lexer": "r",
   "version": "3.4.3"
  }
 },
 "nbformat": 4,
 "nbformat_minor": 2
}
